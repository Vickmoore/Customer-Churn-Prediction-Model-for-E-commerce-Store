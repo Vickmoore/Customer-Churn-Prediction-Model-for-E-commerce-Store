{
 "cells": [
  {
   "cell_type": "code",
   "execution_count": 112,
   "metadata": {},
   "outputs": [],
   "source": [
    "import pandas as pd\n",
    "import numpy as np\n",
    "import seaborn as sns\n",
    "import matplotlib.pyplot as plt\n",
    "from sklearn.preprocessing import StandardScaler\n",
    "from sklearn.model_selection import train_test_split\n",
    "from sklearn.linear_model import LogisticRegression\n",
    "from sklearn.ensemble import RandomForestClassifier\n",
    "from sklearn.metrics import accuracy_score, precision_score, recall_score, roc_auc_score, classification_report, confusion_matrix\n",
    "import joblib"
   ]
  },
  {
   "cell_type": "markdown",
   "metadata": {},
   "source": [
    "SINCE WE HAVE NO DATASET, WE NEED TO CREATE A RANDOM DATASET"
   ]
  },
  {
   "cell_type": "code",
   "execution_count": 113,
   "metadata": {},
   "outputs": [
    {
     "data": {
      "text/html": [
       "<div>\n",
       "<style scoped>\n",
       "    .dataframe tbody tr th:only-of-type {\n",
       "        vertical-align: middle;\n",
       "    }\n",
       "\n",
       "    .dataframe tbody tr th {\n",
       "        vertical-align: top;\n",
       "    }\n",
       "\n",
       "    .dataframe thead th {\n",
       "        text-align: right;\n",
       "    }\n",
       "</style>\n",
       "<table border=\"1\" class=\"dataframe\">\n",
       "  <thead>\n",
       "    <tr style=\"text-align: right;\">\n",
       "      <th></th>\n",
       "      <th>purchase_frequency</th>\n",
       "      <th>time_since_last_purchase</th>\n",
       "      <th>amount_spent</th>\n",
       "      <th>age</th>\n",
       "      <th>customer_service_interactions</th>\n",
       "      <th>churn</th>\n",
       "    </tr>\n",
       "  </thead>\n",
       "  <tbody>\n",
       "    <tr>\n",
       "      <th>0</th>\n",
       "      <td>7</td>\n",
       "      <td>162</td>\n",
       "      <td>601.08</td>\n",
       "      <td>69</td>\n",
       "      <td>8</td>\n",
       "      <td>1</td>\n",
       "    </tr>\n",
       "    <tr>\n",
       "      <th>1</th>\n",
       "      <td>15</td>\n",
       "      <td>87</td>\n",
       "      <td>679.08</td>\n",
       "      <td>37</td>\n",
       "      <td>5</td>\n",
       "      <td>1</td>\n",
       "    </tr>\n",
       "    <tr>\n",
       "      <th>2</th>\n",
       "      <td>11</td>\n",
       "      <td>55</td>\n",
       "      <td>448.29</td>\n",
       "      <td>49</td>\n",
       "      <td>4</td>\n",
       "      <td>0</td>\n",
       "    </tr>\n",
       "    <tr>\n",
       "      <th>3</th>\n",
       "      <td>8</td>\n",
       "      <td>288</td>\n",
       "      <td>451.33</td>\n",
       "      <td>67</td>\n",
       "      <td>9</td>\n",
       "      <td>1</td>\n",
       "    </tr>\n",
       "    <tr>\n",
       "      <th>4</th>\n",
       "      <td>7</td>\n",
       "      <td>178</td>\n",
       "      <td>727.27</td>\n",
       "      <td>31</td>\n",
       "      <td>6</td>\n",
       "      <td>1</td>\n",
       "    </tr>\n",
       "  </tbody>\n",
       "</table>\n",
       "</div>"
      ],
      "text/plain": [
       "   purchase_frequency  time_since_last_purchase  amount_spent  age  \\\n",
       "0                   7                       162        601.08   69   \n",
       "1                  15                        87        679.08   37   \n",
       "2                  11                        55        448.29   49   \n",
       "3                   8                       288        451.33   67   \n",
       "4                   7                       178        727.27   31   \n",
       "\n",
       "   customer_service_interactions  churn  \n",
       "0                              8      1  \n",
       "1                              5      1  \n",
       "2                              4      0  \n",
       "3                              9      1  \n",
       "4                              6      1  "
      ]
     },
     "execution_count": 113,
     "metadata": {},
     "output_type": "execute_result"
    }
   ],
   "source": [
    "# Number of samples\n",
    "num_samples = 1000\n",
    "\n",
    "# Generate sample data\n",
    "np.random.seed(42)\n",
    "data = {\n",
    "    'purchase_frequency': np.random.randint(1, 20, num_samples),\n",
    "    'time_since_last_purchase': np.random.randint(1, 365, num_samples),\n",
    "    'amount_spent': np.random.uniform(10, 1000, num_samples).round(2),\n",
    "    'age': np.random.randint(18, 70, num_samples),\n",
    "    'customer_service_interactions': np.random.randint(0, 10, num_samples),\n",
    "    'churn': np.random.choice([0, 1], num_samples)  # Target variable\n",
    "}\n",
    "\n",
    "# Create a DataFrame\n",
    "data = pd.DataFrame(data)\n",
    "data.head()\n"
   ]
  },
  {
   "cell_type": "code",
   "execution_count": 114,
   "metadata": {},
   "outputs": [
    {
     "name": "stdout",
     "output_type": "stream",
     "text": [
      "<class 'pandas.core.frame.DataFrame'>\n",
      "RangeIndex: 1000 entries, 0 to 999\n",
      "Data columns (total 6 columns):\n",
      " #   Column                         Non-Null Count  Dtype  \n",
      "---  ------                         --------------  -----  \n",
      " 0   purchase_frequency             1000 non-null   int32  \n",
      " 1   time_since_last_purchase       1000 non-null   int32  \n",
      " 2   amount_spent                   1000 non-null   float64\n",
      " 3   age                            1000 non-null   int32  \n",
      " 4   customer_service_interactions  1000 non-null   int32  \n",
      " 5   churn                          1000 non-null   int32  \n",
      "dtypes: float64(1), int32(5)\n",
      "memory usage: 27.5 KB\n"
     ]
    }
   ],
   "source": [
    "data.info()"
   ]
  },
  {
   "cell_type": "markdown",
   "metadata": {},
   "source": [
    "DATA PREPROCESSING"
   ]
  },
  {
   "cell_type": "code",
   "execution_count": 115,
   "metadata": {},
   "outputs": [
    {
     "data": {
      "text/plain": [
       "purchase_frequency               0\n",
       "time_since_last_purchase         0\n",
       "amount_spent                     0\n",
       "age                              0\n",
       "customer_service_interactions    0\n",
       "churn                            0\n",
       "dtype: int64"
      ]
     },
     "execution_count": 115,
     "metadata": {},
     "output_type": "execute_result"
    }
   ],
   "source": [
    "data.isnull().sum()"
   ]
  },
  {
   "cell_type": "markdown",
   "metadata": {},
   "source": [
    "STANDARDIZING THE FEATURES DATA"
   ]
  },
  {
   "cell_type": "code",
   "execution_count": 116,
   "metadata": {},
   "outputs": [
    {
     "data": {
      "text/html": [
       "<div>\n",
       "<style scoped>\n",
       "    .dataframe tbody tr th:only-of-type {\n",
       "        vertical-align: middle;\n",
       "    }\n",
       "\n",
       "    .dataframe tbody tr th {\n",
       "        vertical-align: top;\n",
       "    }\n",
       "\n",
       "    .dataframe thead th {\n",
       "        text-align: right;\n",
       "    }\n",
       "</style>\n",
       "<table border=\"1\" class=\"dataframe\">\n",
       "  <thead>\n",
       "    <tr style=\"text-align: right;\">\n",
       "      <th></th>\n",
       "      <th>purchase_frequency</th>\n",
       "      <th>time_since_last_purchase</th>\n",
       "      <th>amount_spent</th>\n",
       "      <th>age</th>\n",
       "      <th>customer_service_interactions</th>\n",
       "      <th>churn</th>\n",
       "    </tr>\n",
       "  </thead>\n",
       "  <tbody>\n",
       "    <tr>\n",
       "      <th>0</th>\n",
       "      <td>-0.486132</td>\n",
       "      <td>-0.192649</td>\n",
       "      <td>0.363073</td>\n",
       "      <td>1.695383</td>\n",
       "      <td>1.194288</td>\n",
       "      <td>1</td>\n",
       "    </tr>\n",
       "    <tr>\n",
       "      <th>1</th>\n",
       "      <td>0.930130</td>\n",
       "      <td>-0.893431</td>\n",
       "      <td>0.634642</td>\n",
       "      <td>-0.442890</td>\n",
       "      <td>0.143287</td>\n",
       "      <td>1</td>\n",
       "    </tr>\n",
       "    <tr>\n",
       "      <th>2</th>\n",
       "      <td>0.221999</td>\n",
       "      <td>-1.192431</td>\n",
       "      <td>-0.168888</td>\n",
       "      <td>0.358963</td>\n",
       "      <td>-0.207047</td>\n",
       "      <td>0</td>\n",
       "    </tr>\n",
       "    <tr>\n",
       "      <th>3</th>\n",
       "      <td>-0.309099</td>\n",
       "      <td>0.984663</td>\n",
       "      <td>-0.158304</td>\n",
       "      <td>1.561741</td>\n",
       "      <td>1.544622</td>\n",
       "      <td>1</td>\n",
       "    </tr>\n",
       "    <tr>\n",
       "      <th>4</th>\n",
       "      <td>-0.486132</td>\n",
       "      <td>-0.043149</td>\n",
       "      <td>0.802423</td>\n",
       "      <td>-0.843816</td>\n",
       "      <td>0.493620</td>\n",
       "      <td>1</td>\n",
       "    </tr>\n",
       "  </tbody>\n",
       "</table>\n",
       "</div>"
      ],
      "text/plain": [
       "   purchase_frequency  time_since_last_purchase  amount_spent       age  \\\n",
       "0           -0.486132                 -0.192649      0.363073  1.695383   \n",
       "1            0.930130                 -0.893431      0.634642 -0.442890   \n",
       "2            0.221999                 -1.192431     -0.168888  0.358963   \n",
       "3           -0.309099                  0.984663     -0.158304  1.561741   \n",
       "4           -0.486132                 -0.043149      0.802423 -0.843816   \n",
       "\n",
       "   customer_service_interactions  churn  \n",
       "0                       1.194288      1  \n",
       "1                       0.143287      1  \n",
       "2                      -0.207047      0  \n",
       "3                       1.544622      1  \n",
       "4                       0.493620      1  "
      ]
     },
     "execution_count": 116,
     "metadata": {},
     "output_type": "execute_result"
    }
   ],
   "source": [
    "scaler = StandardScaler()\n",
    "features_to_scale = ['age', 'purchase_frequency', 'time_since_last_purchase', 'amount_spent', 'customer_service_interactions']\n",
    "data[features_to_scale] = scaler.fit_transform(data[features_to_scale])\n",
    "data.head()"
   ]
  },
  {
   "cell_type": "markdown",
   "metadata": {},
   "source": [
    "DEFINING FEATURES AND TARGET VARIABLES"
   ]
  },
  {
   "cell_type": "code",
   "execution_count": 117,
   "metadata": {},
   "outputs": [],
   "source": [
    "X = data.drop(columns = ['churn'])\n",
    "y = data['churn']"
   ]
  },
  {
   "cell_type": "markdown",
   "metadata": {},
   "source": [
    "DATA SPLITTING"
   ]
  },
  {
   "cell_type": "code",
   "execution_count": 118,
   "metadata": {},
   "outputs": [],
   "source": [
    "X_train, X_test, y_train, y_test = train_test_split(X, y, test_size=0.2, random_state=42)"
   ]
  },
  {
   "cell_type": "markdown",
   "metadata": {},
   "source": [
    "MODEL SELECTION"
   ]
  },
  {
   "cell_type": "code",
   "execution_count": 119,
   "metadata": {},
   "outputs": [],
   "source": [
    "model = LogisticRegression()\n",
    "model.fit(X_train, y_train)\n",
    "y_pred = model.predict(X_test)"
   ]
  },
  {
   "cell_type": "code",
   "execution_count": 120,
   "metadata": {},
   "outputs": [],
   "source": [
    "from sklearn.model_selection import GridSearchCV\n",
    "\n",
    "param_grid = {'C': [0.01, 0.1, 1, 10, 100]}\n",
    "grid_search = GridSearchCV(LogisticRegression(), param_grid, cv=5)\n",
    "grid_search.fit(X_train, y_train)\n",
    "best_model = grid_search.best_estimator_\n"
   ]
  },
  {
   "cell_type": "markdown",
   "metadata": {},
   "source": [
    "EVALUATION PHASE BASED ON THE MODEL PERFORMANCE"
   ]
  },
  {
   "cell_type": "code",
   "execution_count": 121,
   "metadata": {},
   "outputs": [
    {
     "name": "stdout",
     "output_type": "stream",
     "text": [
      "\n",
      "Logistic Regression Performance:\n",
      "Accuracy: 0.56\n",
      "Precision: 0.5543478260869565\n",
      "Recall: 0.5204081632653061\n",
      "AUC-ROC: 0.5592236894757903\n",
      "              precision    recall  f1-score   support\n",
      "\n",
      "           0       0.56      0.60      0.58       102\n",
      "           1       0.55      0.52      0.54        98\n",
      "\n",
      "    accuracy                           0.56       200\n",
      "   macro avg       0.56      0.56      0.56       200\n",
      "weighted avg       0.56      0.56      0.56       200\n",
      "\n"
     ]
    }
   ],
   "source": [
    "print(\"\\nLogistic Regression Performance:\")\n",
    "print(\"Accuracy:\", accuracy_score(y_test, y_pred))\n",
    "print(\"Precision:\", precision_score(y_test, y_pred))\n",
    "print(\"Recall:\", recall_score(y_test, y_pred))\n",
    "print(\"AUC-ROC:\", roc_auc_score(y_test, y_pred))\n",
    "print(classification_report(y_test, y_pred))"
   ]
  },
  {
   "cell_type": "code",
   "execution_count": 122,
   "metadata": {},
   "outputs": [
    {
     "name": "stdout",
     "output_type": "stream",
     "text": [
      "\n",
      "Random Forest Performance:\n",
      "Accuracy: 0.495\n",
      "Precision: 0.4845360824742268\n",
      "Recall: 0.47959183673469385\n",
      "AUC-ROC: 0.49469787915166064\n",
      "              precision    recall  f1-score   support\n",
      "\n",
      "           0       0.50      0.51      0.51       102\n",
      "           1       0.48      0.48      0.48        98\n",
      "\n",
      "    accuracy                           0.49       200\n",
      "   macro avg       0.49      0.49      0.49       200\n",
      "weighted avg       0.49      0.49      0.49       200\n",
      "\n"
     ]
    }
   ],
   "source": [
    "rf_clf = RandomForestClassifier(n_estimators=100, random_state=42)\n",
    "rf_clf.fit(X_train, y_train)\n",
    "y_pred_rf = rf_clf.predict(X_test)\n",
    "\n",
    "# Evaluation\n",
    "print(\"\\nRandom Forest Performance:\")\n",
    "print(\"Accuracy:\", accuracy_score(y_test, y_pred_rf))\n",
    "print(\"Precision:\", precision_score(y_test, y_pred_rf))\n",
    "print(\"Recall:\", recall_score(y_test, y_pred_rf))\n",
    "print(\"AUC-ROC:\", roc_auc_score(y_test, y_pred_rf))\n",
    "print(classification_report(y_test, y_pred_rf))\n"
   ]
  },
  {
   "cell_type": "markdown",
   "metadata": {},
   "source": [
    "MODEL SAVING"
   ]
  },
  {
   "cell_type": "code",
   "execution_count": 123,
   "metadata": {},
   "outputs": [
    {
     "data": {
      "text/plain": [
       "['random_forest_model.pkl']"
      ]
     },
     "execution_count": 123,
     "metadata": {},
     "output_type": "execute_result"
    }
   ],
   "source": [
    "# Save the models using joblib\n",
    "joblib.dump(model, 'logistic_regression_model.pkl')\n",
    "joblib.dump(rf_clf, 'random_forest_model.pkl')\n"
   ]
  },
  {
   "cell_type": "markdown",
   "metadata": {},
   "source": [
    "VISUALIZATIONS\n",
    "\n",
    "Plotting Confusion Matrix for Logistic Regression"
   ]
  },
  {
   "cell_type": "code",
   "execution_count": 124,
   "metadata": {},
   "outputs": [
    {
     "data": {
      "image/png": "[encoded data removed]",
      "text/plain": [
       "<Figure size 800x600 with 2 Axes>"
      ]
     },
     "metadata": {},
     "output_type": "display_data"
    }
   ],
   "source": [
    "# Plotting Confusion Matrix for Logistic Regression\n",
    "conf_matrix = confusion_matrix(y_test, y_pred)\n",
    "plt.figure(figsize=(8, 6))\n",
    "sns.heatmap(conf_matrix, annot=True, fmt=\"d\", cmap=\"Blues\")\n",
    "plt.title(\"Confusion Matrix for Random Forest\")\n",
    "plt.xlabel(\"Predicted\")\n",
    "plt.ylabel(\"Actual\")\n",
    "plt.show()\n"
   ]
  },
  {
   "cell_type": "markdown",
   "metadata": {},
   "source": [
    "Plotting Confusion Matrix for Random Forest"
   ]
  },
  {
   "cell_type": "code",
   "execution_count": 125,
   "metadata": {},
   "outputs": [
    {
     "data": {
      "image/png": "[encoded data removed]",
      "text/plain": [
       "<Figure size 800x600 with 2 Axes>"
      ]
     },
     "metadata": {},
     "output_type": "display_data"
    }
   ],
   "source": [
    "# Plotting Confusion Matrix for Random Forest\n",
    "conf_matrix = confusion_matrix(y_test, y_pred_rf)\n",
    "plt.figure(figsize=(8, 6))\n",
    "sns.heatmap(conf_matrix, annot=True, fmt=\"d\", cmap=\"Blues\")\n",
    "plt.title(\"Confusion Matrix for Random Forest\")\n",
    "plt.xlabel(\"Predicted\")\n",
    "plt.ylabel(\"Actual\")\n",
    "plt.show()\n"
   ]
  },
  {
   "cell_type": "markdown",
   "metadata": {},
   "source": [
    "FEATURE IMPORTANCE FOR THE LOGISTIC REGRESSION BASED ON COEFFICIENT"
   ]
  },
  {
   "cell_type": "code",
   "execution_count": 127,
   "metadata": {},
   "outputs": [
    {
     "name": "stdout",
     "output_type": "stream",
     "text": [
      "                         Feature  Coefficient\n",
      "3                            age     0.095255\n",
      "1       time_since_last_purchase    -0.088406\n",
      "0             purchase_frequency     0.072195\n",
      "2                   amount_spent     0.054567\n",
      "4  customer_service_interactions     0.015580\n"
     ]
    },
    {
     "data": {
      "image/png": "[encoded data removed]",
      "text/plain": [
       "<Figure size 1000x600 with 1 Axes>"
      ]
     },
     "metadata": {},
     "output_type": "display_data"
    }
   ],
   "source": [
    "# `model` is your trained LogisticRegression instance\n",
    "coefficients = model.coef_[0]\n",
    "feature_names = X.columns\n",
    "\n",
    "# Creating a DataFrame to visualize the coefficients\n",
    "importance_df = pd.DataFrame({\n",
    "    'Feature': feature_names,\n",
    "    'Coefficient': coefficients\n",
    "})\n",
    "\n",
    "# Sorting features by the absolute value of coefficients\n",
    "importance_df['Abs_Coefficient'] = np.abs(importance_df['Coefficient'])\n",
    "importance_df = importance_df.sort_values(by='Abs_Coefficient', ascending=False)\n",
    "\n",
    "# Displaying the top features\n",
    "print(importance_df[['Feature', 'Coefficient']])\n",
    "\n",
    "import matplotlib.pyplot as plt\n",
    "\n",
    "# Plotting the feature importance\n",
    "plt.figure(figsize=(10, 6))\n",
    "plt.barh(importance_df['Feature'], importance_df['Coefficient'])\n",
    "plt.xlabel('Coefficient Value')\n",
    "plt.ylabel('Feature')\n",
    "plt.title('Feature Importance based on Coefficients (Logistic Regression)')\n",
    "plt.gca().invert_yaxis()\n",
    "plt.show()\n"
   ]
  },
  {
   "cell_type": "markdown",
   "metadata": {},
   "source": [
    "FEATURE IMPORTANCE FOR THE RANDOM FOREST"
   ]
  },
  {
   "cell_type": "code",
   "execution_count": 109,
   "metadata": {},
   "outputs": [
    {
     "data": {
      "image/png": "[encoded data removed]",
      "text/plain": [
       "<Figure size 1000x600 with 1 Axes>"
      ]
     },
     "metadata": {},
     "output_type": "display_data"
    }
   ],
   "source": [
    "# Feature importance from Random Forest\n",
    "importances = rf_clf.feature_importances_\n",
    "feature_names = X.columns\n",
    "\n",
    "# Plotting feature importance\n",
    "plt.figure(figsize=(10, 6))\n",
    "sns.barplot(x=importances, y=feature_names)\n",
    "plt.title(\"Feature Importance from Random Forest\")\n",
    "plt.show()\n"
   ]
  },
  {
   "cell_type": "markdown",
   "metadata": {},
   "source": [
    "PREDICTION"
   ]
  },
  {
   "cell_type": "code",
   "execution_count": 129,
   "metadata": {},
   "outputs": [
    {
     "name": "stdout",
     "output_type": "stream",
     "text": [
      "     Predicted_Churn  Churn_Probability\n",
      "0                  1           0.544755\n",
      "1                  1           0.534561\n",
      "2                  1           0.535155\n",
      "3                  1           0.513117\n",
      "4                  0           0.484373\n",
      "..               ...                ...\n",
      "995                1           0.512870\n",
      "996                1           0.516875\n",
      "997                1           0.512051\n",
      "998                0           0.462569\n",
      "999                0           0.481091\n",
      "\n",
      "[1000 rows x 2 columns]\n"
     ]
    }
   ],
   "source": [
    "# Drop the target variable column if it exists in the data (e.g., 'churn')\n",
    "data_features = data.drop(columns=['churn'], errors='ignore') \n",
    "\n",
    "# Ensure the data has the same columns as the training data (you might need to reorder them)\n",
    "data_features = data_features[model.feature_names_in_]\n",
    "\n",
    "# Make predictions using the trained model\n",
    "predictions = model.predict(data_features)\n",
    "\n",
    "# Get the probability of churn (1 - indicating churn)\n",
    "prediction_probabilities = model.predict_proba(data_features)[:, 1]  # Probability of churn\n",
    "\n",
    "# Create a DataFrame for results to display predictions and probabilities\n",
    "results = data.copy()  # Retain the original data\n",
    "results['Predicted_Churn'] = predictions\n",
    "results['Churn_Probability'] = prediction_probabilities\n",
    "\n",
    "# Display the results\n",
    "print(results[['Predicted_Churn', 'Churn_Probability']])\n",
    "\n"
   ]
  },
  {
   "cell_type": "code",
   "execution_count": null,
   "metadata": {},
   "outputs": [],
   "source": []
  }
 ],
 "metadata": {
  "kernelspec": {
   "display_name": "base",
   "language": "python",
   "name": "python3"
  },
  "language_info": {
   "codemirror_mode": {
    "name": "ipython",
    "version": 3
   },
   "file_extension": ".py",
   "mimetype": "text/x-python",
   "name": "python",
   "nbconvert_exporter": "python",
   "pygments_lexer": "ipython3",
   "version": "3.10.9"
  }
 },
 "nbformat": 4,
 "nbformat_minor": 2
}
